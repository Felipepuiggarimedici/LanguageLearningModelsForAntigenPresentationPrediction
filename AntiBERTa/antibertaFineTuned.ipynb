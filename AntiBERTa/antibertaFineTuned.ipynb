{
 "cells": [
  {
   "cell_type": "markdown",
   "id": "7bbf07b5",
   "metadata": {},
   "source": [
    "##### Peptide prediction using antiberta\n",
    "Code is based on tutorial [github](https://github.com/alchemab/antiberta/blob/master/mlm.ipynb) from [paper](https://www.cell.com/patterns/fulltext/S2666-3899(22)00105-2). But as we need the generative model it will use BertForMaskedLM"
   ]
  },
  {
   "cell_type": "code",
   "execution_count": 1,
   "id": "45206297",
   "metadata": {},
   "outputs": [],
   "source": [
    "from transformers import (\n",
    "    RobertaConfig,\n",
    "    RobertaTokenizer,\n",
    "    RobertaForMaskedLM,\n",
    "    DataCollatorForLanguageModeling,\n",
    "    TrainingArguments,\n",
    "    Trainer,\n",
    "    EarlyStoppingCallback\n",
    ")\n",
    "import re\n",
    "#so progress can be seen\n",
    "from tqdm.notebook import tqdm\n",
    "import transformers.trainer_utils as trainer_utils\n",
    "\n",
    "trainer_utils.tqdm = tqdm\n",
    "from datasets import Dataset, load_dataset\n",
    "from sklearn.metrics import (\n",
    "    precision_score,\n",
    "    recall_score,\n",
    "    f1_score,\n",
    "    matthews_corrcoef,\n",
    "    roc_auc_score,\n",
    "    average_precision_score\n",
    ")\n",
    "import pandas as pd\n",
    "import torch\n",
    "import numpy as np\n",
    "import random\n",
    "import os"
   ]
  },
  {
   "cell_type": "markdown",
   "id": "1486f5dd",
   "metadata": {},
   "source": [
    "#### Tokenizing file with tokenizer from paper"
   ]
  },
  {
   "cell_type": "code",
   "execution_count": 2,
   "id": "16e48134",
   "metadata": {},
   "outputs": [],
   "source": [
    "# Initialise the tokeniser\n",
    "tokenizer = RobertaTokenizer.from_pretrained(\n",
    "    \"tokenizer\"\n",
    ")\n",
    "\n",
    "# Initialise the data collator, which is necessary for batching\n",
    "collator = DataCollatorForLanguageModeling(\n",
    "    tokenizer=tokenizer, mlm=True, mlm_probability=0.15\n",
    ")"
   ]
  },
  {
   "cell_type": "markdown",
   "id": "8b097eef",
   "metadata": {},
   "source": [
    "#### Setting seed from notebook"
   ]
  },
  {
   "cell_type": "code",
   "execution_count": 3,
   "id": "2fe1d04b",
   "metadata": {},
   "outputs": [],
   "source": [
    "def set_seed(seed: int = 42):\n",
    "    \"\"\"\n",
    "    Set all seeds to make results reproducible (deterministic mode).\n",
    "    When seed is None, disables deterministic mode.\n",
    "    \"\"\"\n",
    "    torch.manual_seed(seed)\n",
    "    torch.cuda.manual_seed_all(seed)\n",
    "    torch.backends.cudnn.deterministic = True\n",
    "    torch.backends.cudnn.benchmark = False\n",
    "    np.random.seed(seed)\n",
    "    random.seed(seed)\n",
    "    os.environ['PYTHONHASHSEED'] = str(seed)\n",
    "set_seed()"
   ]
  },
  {
   "cell_type": "markdown",
   "id": "f8774faa",
   "metadata": {},
   "source": [
    "#### Select a random HLA to generate peptides"
   ]
  },
  {
   "cell_type": "code",
   "execution_count": 4,
   "id": "3934fa26",
   "metadata": {},
   "outputs": [
    {
     "name": "stdout",
     "output_type": "stream",
     "text": [
      "Randomly selected HLA sequences:\n",
      "['YYSEYRNIYAQTDESNLYLSYDYYTWAERAYEWY']\n",
      "Randomly selected HLAs\n",
      "['HLA-B*07:02']\n"
     ]
    }
   ],
   "source": [
    "hla_df = pd.read_csv(\"data/fullData/common_hla_sequence.csv\")\n",
    "\n",
    "# Assuming the HLA sequence is under a column like \"sequence\" or \"HLA_sequence\"\n",
    "# Adjust this if your column has a different name\n",
    "randomRows = hla_df.sample(1)\n",
    "hlaSequences = randomRows['HLA_sequence'].tolist()\n",
    "hlaNames = randomRows['HLA'].tolist()\n",
    "\n",
    "print(\"Randomly selected HLA sequences:\")\n",
    "print(hlaSequences)\n",
    "print(\"Randomly selected HLAs\")\n",
    "print(hlaNames)"
   ]
  },
  {
   "cell_type": "code",
   "execution_count": 5,
   "id": "219a3a2d",
   "metadata": {},
   "outputs": [
    {
     "data": {
      "application/vnd.jupyter.widget-view+json": {
       "model_id": "f21edcef6f984d12be3121e961d4d7a8",
       "version_major": 2,
       "version_minor": 0
      },
      "text/plain": [
       "Generating full split: 0 examples [00:00, ? examples/s]"
      ]
     },
     "metadata": {},
     "output_type": "display_data"
    },
    {
     "data": {
      "application/vnd.jupyter.widget-view+json": {
       "model_id": "40f33b2dbdd748568a6a3005eb957abc",
       "version_major": 2,
       "version_minor": 0
      },
      "text/plain": [
       "Map:   0%|          | 0/23563 [00:00<?, ? examples/s]"
      ]
     },
     "metadata": {},
     "output_type": "display_data"
    },
    {
     "data": {
      "application/vnd.jupyter.widget-view+json": {
       "model_id": "2c56c0a99c644acd86735ae5709579b9",
       "version_major": 2,
       "version_minor": 0
      },
      "text/plain": [
       "Map:   0%|          | 0/2619 [00:00<?, ? examples/s]"
      ]
     },
     "metadata": {},
     "output_type": "display_data"
    }
   ],
   "source": [
    "from datasets import load_dataset\n",
    "\n",
    "# Load and filter your CSV data\n",
    "full_df = pd.read_csv('data/fullData/data.csv')\n",
    "tokenizersForTrain = []\n",
    "tokenizersForEval = []\n",
    "for i in range(len(hlaSequences)):\n",
    "    hlaSeq = hlaSequences[i]\n",
    "    hlaName = hlaNames[i]\n",
    "    filtered_df = full_df[full_df['HLA_sequence'].isin([hlaSeq])]\n",
    "\n",
    "    filtered_df = filtered_df[[\"peptide\"]]\n",
    "    filtered_df.to_csv('temp_filtered.csv', index=False)\n",
    "    # Load filtered dataset\n",
    "    dataset = load_dataset('csv', data_files={'full': 'temp_filtered.csv'})['full']\n",
    "\n",
    "    # Split dataset into train and eval (e.g., 90% train, 10% eval)\n",
    "    split = dataset.train_test_split(test_size=0.1, seed=42)\n",
    "    train_dataset = split['train']\n",
    "    eval_dataset = split['test']\n",
    "\n",
    "    # Tokenize train dataset\n",
    "    tokenized_train = train_dataset.map(\n",
    "        lambda z: tokenizer(\n",
    "            z[\"peptide\"],\n",
    "            padding=\"max_length\",\n",
    "            truncation=True,\n",
    "            max_length=150,\n",
    "            return_special_tokens_mask=True,\n",
    "        ),\n",
    "        batched=True,\n",
    "        num_proc=1,\n",
    "        remove_columns=[\"peptide\"],\n",
    "    )\n",
    "    tokenizersForTrain.append(tokenized_train)\n",
    "    # Tokenize eval dataset\n",
    "    tokenized_eval = eval_dataset.map(\n",
    "        lambda z: tokenizer(\n",
    "            z[\"peptide\"],\n",
    "            padding=\"max_length\",\n",
    "            truncation=True,\n",
    "            max_length=150,\n",
    "            return_special_tokens_mask=True,\n",
    "        ),\n",
    "        batched=True,\n",
    "        num_proc=1,\n",
    "        remove_columns=[\"peptide\"],\n",
    "    )\n",
    "    tokenizersForEval.append(tokenized_eval)\n"
   ]
  },
  {
   "cell_type": "markdown",
   "id": "38f3711e",
   "metadata": {},
   "source": [
    "#### Model Configuration from paper"
   ]
  },
  {
   "cell_type": "code",
   "execution_count": 6,
   "id": "40df64d0",
   "metadata": {},
   "outputs": [],
   "source": [
    "# These are the cofigurations they used for pre-training.\n",
    "antiberta_config = {\n",
    "    \"num_hidden_layers\": 12,\n",
    "    \"num_attention_heads\": 12,\n",
    "    \"hidden_size\": 768,\n",
    "    \"d_ff\": 3072,\n",
    "    \"vocab_size\": 25,\n",
    "    \"max_len\": 150,\n",
    "    \"max_position_embeddings\": 152,\n",
    "    \"batch_size\": 96,\n",
    "    \"max_steps\": 225000,\n",
    "    \"weight_decay\": 0.01,\n",
    "    \"peak_learning_rate\": 0.0001,\n",
    "}"
   ]
  },
  {
   "cell_type": "code",
   "execution_count": 7,
   "id": "a4c5df02",
   "metadata": {},
   "outputs": [],
   "source": [
    "# Initialise the model\n",
    "model_config = RobertaConfig(\n",
    "    vocab_size=antiberta_config.get(\"vocab_size\"),\n",
    "    hidden_size=antiberta_config.get(\"hidden_size\"),\n",
    "    max_position_embeddings=antiberta_config.get(\"max_position_embeddings\"),\n",
    "    num_hidden_layers=antiberta_config.get(\"num_hidden_layers\", 12),\n",
    "    num_attention_heads=antiberta_config.get(\"num_attention_heads\", 12),\n",
    "    type_vocab_size=1,\n",
    ")\n",
    "models = []\n",
    "for i in range(len(hlaSequences)):\n",
    "    model = RobertaForMaskedLM(model_config)\n",
    "    models.append(model)"
   ]
  },
  {
   "cell_type": "code",
   "execution_count": 8,
   "id": "96191e40",
   "metadata": {},
   "outputs": [],
   "source": [
    "# construct training arguments\n",
    "# Huggingface uses a default seed of 42\n",
    "args = TrainingArguments(\n",
    "    output_dir=\"test\",\n",
    "    overwrite_output_dir=True,\n",
    "    per_device_train_batch_size=antiberta_config.get(\"batch_size\", 32),\n",
    "    per_device_eval_batch_size=antiberta_config.get(\"batch_size\", 32),\n",
    "    max_steps=225000,\n",
    "    save_steps=2500,\n",
    "    logging_steps=2500,\n",
    "    adam_beta2=0.98,\n",
    "    adam_epsilon=1e-6,\n",
    "    weight_decay=0.01,\n",
    "    warmup_steps=10000,\n",
    "    learning_rate=1e-4,\n",
    "    gradient_accumulation_steps=antiberta_config.get(\"gradient_accumulation_steps\", 1),\n",
    "    disable_tqdm=False,\n",
    "    fp16=True,\n",
    "    eval_strategy=\"steps\",\n",
    "    remove_unused_columns=False\n",
    ")"
   ]
  },
  {
   "cell_type": "code",
   "execution_count": null,
   "id": "9dcc052e",
   "metadata": {},
   "outputs": [],
   "source": [
    "for i in range(len(hlaSequences)):    \n",
    "    trainer = Trainer(\n",
    "        model=model,\n",
    "        args=args,\n",
    "        data_collator=collator,\n",
    "        train_dataset=tokenized_train ,\n",
    "        eval_dataset = tokenized_eval\n",
    "    )\n",
    "    trainer.train()\n",
    "\n",
    "    # HLA string to be safe for folder names\n",
    "    safe_hla = re.sub(r'[^A-Za-z0-9_\\-]', '_', hlaSequences[i])\n",
    "\n",
    "    # Define model output directory\n",
    "    model_dir = os.path.join(\"models\", f\"HLA_{safe_hla}\")\n",
    "    os.makedirs(model_dir, exist_ok=True)\n",
    "    trainer.save_model(model_dir)"
   ]
  }
 ],
 "metadata": {
  "kernelspec": {
   "display_name": "Python 3",
   "language": "python",
   "name": "python3"
  },
  "language_info": {
   "codemirror_mode": {
    "name": "ipython",
    "version": 3
   },
   "file_extension": ".py",
   "mimetype": "text/x-python",
   "name": "python",
   "nbconvert_exporter": "python",
   "pygments_lexer": "ipython3",
   "version": "3.12.6"
  }
 },
 "nbformat": 4,
 "nbformat_minor": 5
}
